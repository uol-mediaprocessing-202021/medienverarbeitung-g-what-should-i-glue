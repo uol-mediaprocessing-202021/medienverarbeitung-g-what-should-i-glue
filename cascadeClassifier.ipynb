{
  "cells": [
    {
      "cell_type": "code",
      "execution_count": null,
      "metadata": {
        "pycharm": {}
      },
      "outputs": [],
      "source": [
        "# Create samples for training the cascadeClassifier"
      ]
    },
    {
      "cell_type": "code",
      "execution_count": 9,
      "metadata": {
        "pycharm": {
          "is_executing": false
        }
      },
      "outputs": [],
      "source": "import cv2\nfrom xml.etree import ElementTree\n"
    },
    {
      "cell_type": "code",
      "execution_count": 39,
      "metadata": {
        "pycharm": {
          "is_executing": false
        }
      },
      "outputs": [],
      "source": "# parse xml files to info.dat for opencv_createsamples\n\ndef parse_bounding_boxes(src):\n    tree \u003d ElementTree.parse(src)\n    root \u003d tree.getroot()\n    bdboxes \u003d []\n    \n    for b in root.findall(\u0027.//bndbox\u0027):\n        xmin \u003d int(b.find(\u0027xmin\u0027).text)\n        ymin \u003d int(b.find(\u0027ymin\u0027).text)\n        width \u003d int(b.find(\u0027xmax\u0027).text) - xmin\n        height \u003d int(b.find(\u0027ymax\u0027).text) - ymin\n        xywh \u003d [xmin, ymin, width, height]\n        bdboxes.append(xywh)\n    # width \u003d int(root.find(\u0027.//size/width\u0027).text) \n    # height \u003d int(root.find(\u0027.//size/height\u0027).text)\n        name \u003d root.find(\u0027.//filename\u0027).text\n    return bdboxes, name #, width, height\n\n\nwith open(\u0027path_to_xml.txt\u0027) as file:\n    lines \u003d file.readlines()\n    \n    all_boxes \u003d {}\n    for L in lines:\n        boxes, img_name \u003d parse_bounding_boxes(L[:-1])\n        img_name \u003d (\u0027img/pos/\u0027) + img_name\n        all_boxes[img_name] \u003d boxes\n    \n    with open(\u0027info.dat\u0027, \u0027w\u0027) as target:\n        for key in all_boxes:\n            tmp \u003d key + \"   \" + str(len(all_boxes[key]))\n            \n            for i in range(len(all_boxes[key])):\n                tmp \u003d tmp + \"   \" + str(all_boxes[key][i][0]) + \" \" + str(all_boxes[key][i][1]) + \" \" + str(all_boxes[key][i][2]) + \" \" + str(all_boxes[key][i][3])\n            \n            tmp \u003d tmp + \"\\n\" \n            target.write(tmp)\n          "
    },
    {
      "cell_type": "code",
      "execution_count": null,
      "metadata": {
        "pycharm": {}
      },
      "outputs": [],
      "source": "# Training the cascadeClassifier \n"
    }
  ],
  "metadata": {
    "kernelspec": {
      "display_name": "Python 3",
      "language": "python",
      "name": "python3"
    },
    "language_info": {
      "codemirror_mode": {
        "name": "ipython",
        "version": 3
      },
      "file_extension": ".py",
      "mimetype": "text/x-python",
      "name": "python",
      "nbconvert_exporter": "python",
      "pygments_lexer": "ipython3",
      "version": "3.8.3"
    }
  },
  "nbformat": 4,
  "nbformat_minor": 4
}