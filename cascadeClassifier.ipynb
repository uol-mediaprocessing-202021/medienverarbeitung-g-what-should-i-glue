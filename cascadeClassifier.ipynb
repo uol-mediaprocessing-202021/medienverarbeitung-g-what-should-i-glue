{
  "cells": [
    {
      "cell_type": "code",
      "execution_count": 9,
      "metadata": {
        "pycharm": {
          "is_executing": false
        }
      },
      "outputs": [],
      "source": [
        "import cv2\n",
        "from xml.etree import ElementTree\n"
      ]
    },
    {
      "cell_type": "code",
      "execution_count": 39,
      "metadata": {
        "pycharm": {
          "is_executing": false
        }
      },
      "outputs": [],
      "source": [
        "# parse xml files to info.dat for opencv_createsamples\n",
        "\n",
        "def parse_bounding_boxes(src):\n",
        "    tree = ElementTree.parse(src)\n",
        "    root = tree.getroot()\n",
        "    bdboxes = []\n",
        "    \n",
        "    for b in root.findall('.//bndbox'):\n",
        "        xmin = int(b.find('xmin').text)\n",
        "        ymin = int(b.find('ymin').text)\n",
        "        width = int(b.find('xmax').text) - xmin\n",
        "        height = int(b.find('ymax').text) - ymin\n",
        "        xywh = [xmin, ymin, width, height]\n",
        "        bdboxes.append(xywh)\n",
        "    # width = int(root.find('.//size/width').text) \n",
        "    # height = int(root.find('.//size/height').text)\n",
        "        name = root.find('.//filename').text\n",
        "    return bdboxes, name \n",
        "\n",
        "\n",
        "with open('path_to_xml.txt') as file:\n",
        "    lines = file.readlines()\n",
        "    \n",
        "    all_boxes = {}\n",
        "    for L in lines:\n",
        "        boxes, img_name = parse_bounding_boxes(L[:-1])\n",
        "        img_name = ('img/pos/') + img_name\n",
        "        all_boxes[img_name] = boxes\n",
        "    \n",
        "    with open('info.dat', 'w') as target:\n",
        "        for key in all_boxes:\n",
        "            tmp = key + \"   \" + str(len(all_boxes[key]))\n",
        "            \n",
        "            for i in range(len(all_boxes[key])):\n",
        "                tmp = tmp + \"   \" + str(all_boxes[key][i][0]) + \" \" + str(all_boxes[key][i][1]) + \" \" + str(all_boxes[key][i][2]) + \" \" + str(all_boxes[key][i][3])\n",
        "            \n",
        "            tmp = tmp + \"\\n\" \n",
        "            target.write(tmp)\n",
        "          "
      ]
    }
  ],
  "metadata": {
    "kernelspec": {
      "display_name": "Python 3",
      "language": "python",
      "name": "python3"
    },
    "language_info": {
      "codemirror_mode": {
        "name": "ipython",
        "version": 3
      },
      "file_extension": ".py",
      "mimetype": "text/x-python",
      "name": "python",
      "nbconvert_exporter": "python",
      "pygments_lexer": "ipython3",
      "version": "3.8.3"
    }
  },
  "nbformat": 4,
  "nbformat_minor": 4
}