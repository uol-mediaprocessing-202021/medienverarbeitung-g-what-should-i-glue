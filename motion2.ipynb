{
 "cells": [
  {
   "cell_type": "code",
   "execution_count": 1,
   "metadata": {},
   "outputs": [],
   "source": [
    "import numpy as np\n",
    "import cv2\n",
    "import matplotlib.pyplot as plt\n",
    "import time\n",
    "import imutils"
   ]
  },
  {
   "cell_type": "code",
   "execution_count": 10,
   "metadata": {},
   "outputs": [],
   "source": [
    "# function to detect motion \n",
    "def detectMotion(frame, gray, prevFrame):\n",
    "    motion = cv2.absdiff(prevFrame, gray) \n",
    "    \n",
    "    th = cv2.threshold(motion, 10, 255, cv2.THRESH_BINARY)[1]\n",
    "    th = cv2.dilate(th, None, iterations=2) # without, threshold image has \"only\" serperate segments\n",
    "    \n",
    "    ct = cv2.findContours(th.copy(), cv2.RETR_EXTERNAL, cv2.CHAIN_APPROX_SIMPLE)\n",
    "    ct = imutils.grab_contours(ct)\n",
    "    \n",
    "    for i in ct:\n",
    "        a = cv2.contourArea(i)\n",
    "        #print(a) # 'debug' solution\n",
    "        if a < minArea:\n",
    "            continue\n",
    "            \n",
    "        (x,y,w,h) = cv2.boundingRect(i)\n",
    "        cv2.rectangle(frame, (x,y), (x+w, y+h), (0, 255,0), 2)\n",
    "    \n",
    "    return frame, motion, th;"
   ]
  },
  {
   "cell_type": "code",
   "execution_count": 12,
   "metadata": {},
   "outputs": [],
   "source": [
    "# only works properly if camera isnt moving\n",
    "prevFrame = None\n",
    "minArea = 1000\n",
    "video = cv2.VideoCapture(0) # 0=webcam feed, or insert video of your choice: e.g. 'video.mp4' \n",
    "\n",
    "while video.isOpened():\n",
    "    retval, frame = video.read()\n",
    "    if not retval: \n",
    "        print(\"Video ended\")\n",
    "        break\n",
    "    # resize video (every single frame)\n",
    "    percent = 0.7\n",
    "    width  = int(frame.shape[1])\n",
    "    height = int(frame.shape[0])\n",
    "    dim = (int(width * percent), int(height * percent))\n",
    "    frame = cv2.resize(frame, dim)\n",
    "\n",
    "    # alternative solution\n",
    "    # resized = imutils.resize(frame, width = 500)\n",
    "    \n",
    "    gray = cv2.cvtColor(frame, cv2.COLOR_BGR2GRAY)\n",
    "    gray = cv2.GaussianBlur(gray, (11,11), 0)\n",
    "    \n",
    "    if prevFrame is None:\n",
    "        prevFrame = gray\n",
    "        continue\n",
    "    \n",
    "    frame, motion, th = detectMotion(frame, gray, prevFrame)       \n",
    "    \n",
    "    cv2.imshow('out_cv', motion)\n",
    "    #cv2.imshow('edges', edges)\n",
    "    cv2.imshow('frame', frame)\n",
    "    cv2.imshow('th', th)\n",
    "    cv2.imshow('gray', gray)\n",
    "    \n",
    "    if cv2.waitKey(1) == 13:\n",
    "        break\n",
    "        \n",
    "    prevFrame = gray\n",
    "\n",
    "video.release()\n",
    "cv2.destroyAllWindows()"
   ]
  }
 ],
 "metadata": {
  "kernelspec": {
   "display_name": "Python 3",
   "language": "python",
   "name": "python3"
  },
  "language_info": {
   "codemirror_mode": {
    "name": "ipython",
    "version": 3
   },
   "file_extension": ".py",
   "mimetype": "text/x-python",
   "name": "python",
   "nbconvert_exporter": "python",
   "pygments_lexer": "ipython3",
   "version": "3.6.8"
  }
 },
 "nbformat": 4,
 "nbformat_minor": 4
}