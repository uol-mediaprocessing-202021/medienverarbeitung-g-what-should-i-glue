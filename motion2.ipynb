{
 "cells": [
  {
   "cell_type": "code",
   "execution_count": 35,
   "metadata": {},
   "outputs": [],
   "source": [
    "import numpy as np\n",
    "import cv2\n",
    "import matplotlib.pyplot as plt\n",
    "import time\n",
    "import imutils"
   ]
  },
  {
   "cell_type": "code",
   "execution_count": 36,
   "metadata": {},
   "outputs": [],
   "source": [
    "# 1\n",
    "def one(frame, gray, prevFrame):\n",
    "    motion = cv2.absdiff(prevFrame, gray) \n",
    "    \n",
    "    th = cv2.threshold(motion, 10, 255, cv2.THRESH_BINARY)[1]\n",
    "    th = cv2.dilate(th, None, iterations=4) #sucks without, threshold image has \"only\" serperate segments\n",
    "    \n",
    "    ct = cv2.findContours(th.copy(), cv2.RETR_EXTERNAL, cv2.CHAIN_APPROX_SIMPLE)\n",
    "    ct = imutils.grab_contours(ct)\n",
    "    \n",
    "    for i in ct:\n",
    "        if cv2.contourArea(i) < minArea:\n",
    "            continue\n",
    "            \n",
    "        (x,y,w,h) = cv2.boundingRect(i)\n",
    "        cv2.rectangle(frame, (x,y), (x+w, y+h), (0, 255,0), 2)\n",
    "    \n",
    "    return frame, motion, th;"
   ]
  },
  {
   "cell_type": "code",
   "execution_count": null,
   "metadata": {},
   "outputs": [],
   "source": [
    "# 2\n",
    "def two(frame, gray, prevFrame):\n",
    "   # edges = cv2.Canny(gray,100,250)\n",
    "    \n",
    "    \n",
    "   # conts = cv2.findCountours(edges.copy(), cv2.RETR_EXTERNAL, cv2.CHAIN_APPROX_SIMPLE)\n",
    "   # conts = imutils.grab_contours(conts)\n",
    "    \n",
    "   # for i in conts:"
   ]
  },
  {
   "cell_type": "code",
   "execution_count": 41,
   "metadata": {},
   "outputs": [],
   "source": [
    "# only works properly if camera isnt moving\n",
    "# TODO: Draw a frame around movin obj, when this works properly\n",
    "prevFrame = None\n",
    "minArea = 5000\n",
    "video = cv2.VideoCapture(\"VID_test.mp4\") #insert video of your choice: e.g. 'video.mp4'\n",
    "\n",
    "while video.isOpened():\n",
    "    time.sleep(0.05)\n",
    "    retval, frame = video.read()\n",
    "    if not retval: \n",
    "        print(\"Video ended\")\n",
    "        break\n",
    "    # resize video (every single frame)\n",
    "    percent = 0.5\n",
    "    width  = int(frame.shape[1])\n",
    "    height = int(frame.shape[0])\n",
    "    dim = (int(width * percent), int(height * percent))\n",
    "    frame = cv2.resize(frame, dim)\n",
    "    #apperently i can resize this very easily with imutils \n",
    "    # resized = imutils.resize(frame, width = 500)\n",
    "    \n",
    "    gray = cv2.cvtColor(frame, cv2.COLOR_BGR2GRAY)\n",
    "    gray = cv2.GaussianBlur(gray, (17,17), 0)\n",
    "    \n",
    "    if prevFrame is None:\n",
    "        prevFrame = gray\n",
    "        continue\n",
    "    \n",
    "    frame, motion, th = one(frame, gray, prevFrame)       \n",
    "    \n",
    "    cv2.imshow('out_cv', motion)\n",
    "    #cv2.imshow('edges', edges)\n",
    "    cv2.imshow('nice?', frame)\n",
    "    cv2.imshow('nice1', th)\n",
    "    cv2.imshow('nice2', gray)\n",
    "    \n",
    "    if cv2.waitKey(1) == 13:\n",
    "        break\n",
    "        \n",
    "    prevFrame = gray  #if static background for first image, you can commet this out\n",
    "    \n",
    "cv2.destroyAllWindows()\n",
    "video.release()"
   ]
  }
 ],
 "metadata": {
  "kernelspec": {
   "display_name": "Python 3",
   "language": "python",
   "name": "python3"
  },
  "language_info": {
   "codemirror_mode": {
    "name": "ipython",
    "version": 3
   },
   "file_extension": ".py",
   "mimetype": "text/x-python",
   "name": "python",
   "nbconvert_exporter": "python",
   "pygments_lexer": "ipython3",
   "version": "3.8.3"
  }
 },
 "nbformat": 4,
 "nbformat_minor": 4
}
