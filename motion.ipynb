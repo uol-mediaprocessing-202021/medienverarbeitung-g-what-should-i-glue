{
 "cells": [
  {
   "cell_type": "code",
   "execution_count": 9,
   "metadata": {},
   "outputs": [],
   "source": [
    "import numpy as np\n",
    "import cv2\n",
    "import matplotlib.pyplot as plt\n",
    "import time\n",
    "import imutils"
   ]
  },
  {
   "cell_type": "code",
   "execution_count": 11,
   "metadata": {},
   "outputs": [],
   "source": [
    "def motionDetect(prevFrame, curFrame): \n",
    "    return abs(curFrame-prevFrame)"
   ]
  },
  {
   "cell_type": "code",
   "execution_count": 59,
   "metadata": {},
   "outputs": [],
   "source": [
    "# only works properly if camera isnt moving\n",
    "# TODO: update prevFrame...\n",
    "# TODO: Draw a frame around movin obj, when this works properly\n",
    "prevFrame = None\n",
    "\n",
    "video = cv2.VideoCapture() #insert video of your choice: e.g. 'video.mp4'\n",
    "\n",
    "while video.isOpened():\n",
    "    retval, frame = video.read()\n",
    "    if not retval: \n",
    "        print(\"Video ended\")\n",
    "        break\n",
    "    # resize video (every single frame)\n",
    "    percent = 0.5\n",
    "    width  = int(frame.shape[1])\n",
    "    height = int(frame.shape[0])\n",
    "    dim = (int(width * percent), int(height * percent))\n",
    "    resized = cv2.resize(frame, dim)\n",
    "    \n",
    "    gray = cv2.cvtColor(resized, cv2.COLOR_BGR2GRAY)\n",
    "    \n",
    "    if prevFrame is None:\n",
    "        prevFrame = gray\n",
    "        continue\n",
    "    \n",
    "    out = motionDetect(prevFrame, gray) # own but yikes, probably background noise\n",
    "    out_cv = cv2.absdiff(prevFrame, gray) \n",
    "    \n",
    "    #thresh = cv2.threshold(frameDelta, 25, 255, cv2.THRESH_BINARY)[1]\n",
    "    #thresh = cv2.dilate(thresh, None, iterations=2)\n",
    "    #cnts = cv2.findContours(thresh.copy(), cv2.RETR_EXTERNAL,\n",
    "    #    cv2.CHAIN_APPROX_SIMPLE)\n",
    "    #cnts = imutils.grab_contours(cnts)\n",
    "    #for c in cnts:\n",
    "    #    if cv2.contourArea(c) < 500:\n",
    "    #        continue\n",
    "    #    (x, y, w, h) = cv2.boundingRect(c)\n",
    "    #    cv2.rectangle(frame, (x, y), (x + w, y + h), (0, 255, 0), 2)\n",
    "   \n",
    "    \n",
    "    cv2.imshow('actuallyNeedsATitle_LikeWhy...', out)\n",
    "    cv2.imshow('out_cv', out_cv)\n",
    "    cv2.imshow('gray', gray)\n",
    "    cv2.imshow('resized frame', resized)\n",
    "    \n",
    "    if cv2.waitKey(1) == 13:\n",
    "        break\n",
    "    \n",
    "cv2.destroyAllWindows()\n",
    "video.release()"
   ]
  }
 ],
 "metadata": {
  "kernelspec": {
   "display_name": "Python 3",
   "language": "python",
   "name": "python3"
  },
  "language_info": {
   "codemirror_mode": {
    "name": "ipython",
    "version": 3
   },
   "file_extension": ".py",
   "mimetype": "text/x-python",
   "name": "python",
   "nbconvert_exporter": "python",
   "pygments_lexer": "ipython3",
   "version": "3.8.3"
  }
 },
 "nbformat": 4,
 "nbformat_minor": 4
}
