{
 "cells": [
  {
   "cell_type": "code",
   "execution_count": 16,
   "metadata": {
    "scrolled": false
   },
   "outputs": [
    {
     "name": "stdout",
     "output_type": "stream",
     "text": [
      "Requirement already satisfied: opencv-python in c:\\users\\usele\\miniconda3\\lib\\site-packages (4.4.0.46)\n",
      "Requirement already satisfied: numpy>=1.17.3 in c:\\users\\usele\\miniconda3\\lib\\site-packages (from opencv-python) (1.19.2)\n",
      "Note: you may need to restart the kernel to use updated packages.\n"
     ]
    }
   ],
   "source": [
    "pip install opencv-python --upgrade"
   ]
  },
  {
   "cell_type": "code",
   "execution_count": 1,
   "metadata": {},
   "outputs": [],
   "source": [
    "import cv2 as  cv\n",
    "import os\n",
    "import time\n",
    "import sys"
   ]
  },
  {
   "cell_type": "code",
   "execution_count": 2,
   "metadata": {},
   "outputs": [],
   "source": [
    "#define function to draw boxes\n",
    "def draw_box(frame, classId, confidences, box):\n",
    "    label = '%.2f' % confidence\n",
    "    label = '%s: %s' % (names[classId], label)\n",
    "    labelSize, baseLine = cv.getTextSize(label, cv.FONT_HERSHEY_SIMPLEX, 0.5, 1)\n",
    "    left, top, width, height = box\n",
    "    top = max(top, labelSize[1])\n",
    "    cv.rectangle(frame, box, color=(0, 255, 0), thickness=3)\n",
    "    cv.rectangle(frame, (left, top - labelSize[1]), (left + labelSize[0], top + baseLine), (255, 255, 255), cv.FILLED)\n",
    "    cv.putText(frame, label, (left,top), cv.FONT_HERSHEY_SIMPLEX, 0.5, (0, 0, 0))"
   ]
  },
  {
   "cell_type": "code",
   "execution_count": 3,
   "metadata": {},
   "outputs": [],
   "source": [
    "#setup paths\n",
    "dir = os.path.dirname(os.path.abspath(''))\n",
    "cfg = os.path.join(dir, 'Yolov4','yolov4-obj.cfg')\n",
    "weights = os.path.join(dir, 'Yolov4','yolov4-obj_last.weights')\n",
    "name = os.path.join(dir, 'Yolov4','obj.names')\n",
    "#vid = os.path.join(dir, 'Yolov4','test.mp4')\n",
    "pic = os.path.join(dir, 'Yolov4','restaurent.jpg')"
   ]
  },
  {
   "cell_type": "code",
   "execution_count": 4,
   "metadata": {},
   "outputs": [],
   "source": [
    "#read names\n",
    "with open(name, 'rt') as f:\n",
    "    names = f.read().rstrip('\\n').split('\\n')"
   ]
  },
  {
   "cell_type": "code",
   "execution_count": 5,
   "metadata": {},
   "outputs": [
    {
     "data": {
      "text/plain": [
       "<dnn_Model 000001AFCC47A090>"
      ]
     },
     "execution_count": 5,
     "metadata": {},
     "output_type": "execute_result"
    }
   ],
   "source": [
    "#setup dnn\n",
    "net = cv.dnn_DetectionModel(cfg, weights)\n",
    "net.setInputSize(704, 704)\n",
    "net.setInputScale(1.0 / 255)\n",
    "net.setInputSwapRB(True)"
   ]
  },
  {
   "cell_type": "code",
   "execution_count": 7,
   "metadata": {},
   "outputs": [],
   "source": [
    "#trying webcam\n",
    "video = cv.VideoCapture('0')\n",
    "while video.isOpened():\n",
    "    time.sleep(0.05)\n",
    "    retval, frame = video.read()\n",
    "    if not retval: \n",
    "        print(\"Video ended\")\n",
    "        break\n",
    "\n",
    "    classes, confidences, boxes = net.detect(frame, confThreshold=0.1, nmsThreshold=0.4)\n",
    "    for classId, confidence, box in zip(classes.flatten(), confidences.flatten(), boxes):\n",
    "        draw_box(frame, classId, confidence, box)\n",
    "        \n",
    "    cv.imshow(\"out\", frame)\n",
    "    k = cv.waitKey(0)\n",
    "    if k == ord(\"s\"):\n",
    "        break\n",
    "\n",
    "cv.destroyAllWindows()\n",
    "video.release()"
   ]
  },
  {
   "cell_type": "code",
   "execution_count": 8,
   "metadata": {},
   "outputs": [],
   "source": [
    "#trying picture\n",
    "frame = cv.imread(pic)\n",
    "classes, confidences, boxes = net.detect(frame3, confThreshold=0.1, nmsThreshold=0.4)\n",
    "try:\n",
    "    classes = classes.flatten()\n",
    "    confidences = confidences.flatten()\n",
    "\n",
    "    for classId, confidence, box in zip(classes, confidences, boxes):\n",
    "        draw_box(frame3, classId, confidence, box)\n",
    "except Exception as err:\n",
    "    print('empty')\n",
    "\n",
    "cv.imshow(\"out\", frame)\n",
    "#cv.imwrite('restaurent_1.jpg', frame, [cv.IMWRITE_JPEG_QUALITY, 100])\n",
    "k = cv.waitKey(0)\n",
    "if k == ord(\"s\"):\n",
    "    cv.destroyAllWindows()"
   ]
  },
  {
   "cell_type": "code",
   "execution_count": 8,
   "metadata": {
    "scrolled": true
   },
   "outputs": [],
   "source": [
    "#using 4 pictures and save the result for presentation\n",
    "frameWidth= 640\n",
    "frameHeight = 400\n",
    "\n",
    "frame1 = cv.imread('Test_Pieces_1.jpg')\n",
    "frame1 = cv.resize(frame1, (frameWidth, frameHeight))\n",
    "frame2 = cv.imread('Test_Pieces_2.jpg')\n",
    "frame2 = cv.resize(frame2, (frameWidth, frameHeight))\n",
    "frame3 = cv.imread('Test_Pieces_3.jpg')\n",
    "frame3 = cv.resize(frame3, (frameWidth, frameHeight))\n",
    "frame4 = cv.imread('Test_Pieces_4.jpg')\n",
    "frame4 = cv.resize(frame4, (frameWidth, frameHeight))\n",
    "\n",
    "classes, confidences, boxes = net.detect(frame1, confThreshold=0.1, nmsThreshold=0.4)\n",
    "try:\n",
    "    classes = classes.flatten()\n",
    "    confidences = confidences.flatten()\n",
    "\n",
    "    for classId, confidence, box in zip(classes, confidences, boxes):\n",
    "        draw_box(frame1, classId, confidence, box)\n",
    "except Exception as err:\n",
    "    print('empty1')\n",
    "\n",
    "classes, confidences, boxes = net.detect(frame2, confThreshold=0.1, nmsThreshold=0.4)\n",
    "try:\n",
    "    classes = classes.flatten()\n",
    "    confidences = confidences.flatten()\n",
    "\n",
    "    for classId, confidence, box in zip(classes, confidences, boxes):\n",
    "        draw_box(frame2, classId, confidence, box)\n",
    "except Exception as err:\n",
    "    print('empty2')\n",
    "\n",
    "classes, confidences, boxes = net.detect(frame3, confThreshold=0.1, nmsThreshold=0.4)\n",
    "try:\n",
    "    classes = classes.flatten()\n",
    "    confidences = confidences.flatten()\n",
    "\n",
    "    for classId, confidence, box in zip(classes, confidences, boxes):\n",
    "        draw_box(frame3, classId, confidence, box)\n",
    "except Exception as err:\n",
    "    print('empty3')\n",
    "\n",
    "classes, confidences, boxes = net.detect(frame4, confThreshold=0.1, nmsThreshold=0.4)\n",
    "try:\n",
    "    classes = classes.flatten()\n",
    "    confidences = confidences.flatten()\n",
    "\n",
    "    for classId, confidence, box in zip(classes, confidences, boxes):\n",
    "        draw_box(frame4, classId, confidence, box)\n",
    "except Exception as err:\n",
    "    print('empty4')\n",
    "\n",
    "cv.imshow(\"out1\", frame1)\n",
    "cv.imshow(\"out2\", frame2)\n",
    "cv.imshow(\"out3\", frame3)\n",
    "cv.imshow(\"out4\", frame4)\n",
    "cv.imwrite('Test_Pieces_1_1.jpg', frame1, [cv.IMWRITE_JPEG_QUALITY, 100])\n",
    "cv.imwrite('Test_Pieces_2_1.jpg', frame2, [cv.IMWRITE_JPEG_QUALITY, 100])\n",
    "cv.imwrite('Test_Pieces_3_1.jpg', frame3, [cv.IMWRITE_JPEG_QUALITY, 100])\n",
    "cv.imwrite('Test_Pieces_4_1.jpg', frame4, [cv.IMWRITE_JPEG_QUALITY, 100])\n",
    "k = cv.waitKey(0)\n",
    "if k == ord(\"s\"):\n",
    "    cv.destroyAllWindows()\n"
   ]
  },
  {
   "cell_type": "code",
   "execution_count": null,
   "metadata": {},
   "outputs": [],
   "source": []
  }
 ],
 "metadata": {
  "kernelspec": {
   "display_name": "Python 3",
   "language": "python",
   "name": "python3"
  },
  "language_info": {
   "codemirror_mode": {
    "name": "ipython",
    "version": 3
   },
   "file_extension": ".py",
   "mimetype": "text/x-python",
   "name": "python",
   "nbconvert_exporter": "python",
   "pygments_lexer": "ipython3",
   "version": "3.8.3"
  }
 },
 "nbformat": 4,
 "nbformat_minor": 4
}
